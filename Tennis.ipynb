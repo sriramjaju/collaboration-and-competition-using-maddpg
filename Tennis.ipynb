{
 "cells": [
  {
   "cell_type": "markdown",
   "metadata": {},
   "source": [
    "# Collaboration and Competition\n",
    "\n",
    "---\n",
    "\n",
    "In this notebook, I will train a MADDPG model using Unity ML environment.\n",
    "\n",
    "### 1. Start the Environment\n",
    "\n",
    "Run the next code cell to install a few packages(if you haven't already). This line will take a few minutes to run!"
   ]
  },
  {
   "cell_type": "code",
   "execution_count": 1,
   "metadata": {},
   "outputs": [],
   "source": [
    "!pip -q install ./python"
   ]
  },
  {
   "cell_type": "markdown",
   "metadata": {},
   "source": [
    "The environment is already saved in the Workspace and can be accessed at the file path provided below. "
   ]
  },
  {
   "cell_type": "code",
   "execution_count": 2,
   "metadata": {},
   "outputs": [
    {
     "name": "stderr",
     "output_type": "stream",
     "text": [
      "INFO:unityagents:\n",
      "'Academy' started successfully!\n",
      "Unity Academy name: Academy\n",
      "        Number of Brains: 1\n",
      "        Number of External Brains : 1\n",
      "        Lesson number : 0\n",
      "        Reset Parameters :\n",
      "\t\t\n",
      "Unity brain name: TennisBrain\n",
      "        Number of Visual Observations (per agent): 0\n",
      "        Vector Observation space type: continuous\n",
      "        Vector Observation space size (per agent): 8\n",
      "        Number of stacked Vector Observation: 3\n",
      "        Vector Action space type: continuous\n",
      "        Vector Action space size (per agent): 2\n",
      "        Vector Action descriptions: , \n"
     ]
    }
   ],
   "source": [
    "from unityagents import UnityEnvironment\n",
    "import numpy as np\n",
    "import torch\n",
    "from collections import deque\n",
    "import matplotlib.pyplot as plt\n",
    "%matplotlib inline\n",
    "\n",
    "from agent import Agent\n",
    "\n",
    "# select this if you are running the reacher app on any cloud based VM(AWS, GCP, etc.)\n",
    "env = UnityEnvironment(file_name=\"/data/Tennis_Linux_NoVis/Tennis\")\n",
    "\n",
    "# select this if you are running the reacher app on your local machine(windows)\n",
    "#env = UnityEnvironment(file_name='Reacher_Windows_x86_64/Reacher.exe')"
   ]
  },
  {
   "cell_type": "markdown",
   "metadata": {},
   "source": [
    "In this environment, two agents control rackets to bounce a ball over a net. If an agent hits the ball over the net, it receives a reward of +0.1. If an agent lets a ball hit the ground or hits the ball out of bounds, it receives a reward of -0.01. Thus, the goal of each agent is to keep the ball in play.\n",
    "\n",
    "The observation space consists of 8 variables corresponding to the position and velocity of the ball and racket. Each agent receives its own, local observation. Two continuous actions are available, corresponding to movement toward (or away from) the net, and jumping.\n",
    "\n",
    "Environments contain **_brains_** which are responsible for deciding the actions of their associated agents. Here we check for the first brain available, and set it as the default brain we will be controlling from Python."
   ]
  },
  {
   "cell_type": "code",
   "execution_count": 3,
   "metadata": {},
   "outputs": [],
   "source": [
    "# get the default brain\n",
    "brain_name = env.brain_names[0]\n",
    "brain = env.brains[brain_name]"
   ]
  },
  {
   "cell_type": "markdown",
   "metadata": {},
   "source": [
    "### 2. Examine the State and Action Spaces\n",
    "\n",
    "Run the code cell below to print some information about the environment."
   ]
  },
  {
   "cell_type": "code",
   "execution_count": 4,
   "metadata": {},
   "outputs": [
    {
     "name": "stdout",
     "output_type": "stream",
     "text": [
      "Number of agents: 2\n",
      "Size of each action: 2\n",
      "There are 2 agents. Each observes a state with length: 24\n",
      "The state for the first agent looks like: [ 0.          0.          0.          0.          0.          0.          0.\n",
      "  0.          0.          0.          0.          0.          0.          0.\n",
      "  0.          0.         -6.65278625 -1.5        -0.          0.\n",
      "  6.83172083  6.         -0.          0.        ]\n"
     ]
    }
   ],
   "source": [
    "# reset the environment\n",
    "env_info = env.reset(train_mode=True)[brain_name]\n",
    "\n",
    "# number of agents \n",
    "num_agents = len(env_info.agents)\n",
    "print('Number of agents:', num_agents)\n",
    "\n",
    "# size of each action\n",
    "action_size = brain.vector_action_space_size\n",
    "print('Size of each action:', action_size)\n",
    "\n",
    "# examine the state space \n",
    "states = env_info.vector_observations\n",
    "state_size = states.shape[1]\n",
    "print('There are {} agents. Each observes a state with length: {}'.format(states.shape[0], state_size))\n",
    "print('The state for the first agent looks like:', states[0])"
   ]
  },
  {
   "cell_type": "markdown",
   "metadata": {},
   "source": [
    "### 3. Train the Agent\n",
    "\n",
    "**important note**:\n",
    "- When training the environment, set `train_mode=True`, so that the line for resetting the environment looks like the following:\n",
    "```python\n",
    "env_info = env.reset(train_mode=True)[brain_name]\n",
    "```\n"
   ]
  },
  {
   "cell_type": "code",
   "execution_count": 5,
   "metadata": {},
   "outputs": [],
   "source": [
    "agent1 = Agent(state_size, action_size, 1, random_seed=0)\n",
    "agent2 = Agent(state_size, action_size, 1, random_seed=0)"
   ]
  },
  {
   "cell_type": "code",
   "execution_count": 6,
   "metadata": {},
   "outputs": [
    {
     "name": "stdout",
     "output_type": "stream",
     "text": [
      "Episode 0\tMax Reward: 0.00\tAverage Reward: 0.000\n",
      "Episode 50\tMax Reward: 0.00\tAverage Reward: 0.002\n",
      "Episode 100\tMax Reward: 0.00\tAverage Reward: 0.009\n",
      "Episode 150\tMax Reward: 0.00\tAverage Reward: 0.015\n",
      "Episode 200\tMax Reward: 0.10\tAverage Reward: 0.019\n",
      "Episode 250\tMax Reward: 0.00\tAverage Reward: 0.025\n",
      "Episode 300\tMax Reward: 0.10\tAverage Reward: 0.033\n",
      "Episode 350\tMax Reward: 0.00\tAverage Reward: 0.041\n",
      "Episode 400\tMax Reward: 0.00\tAverage Reward: 0.046\n",
      "Episode 450\tMax Reward: 0.00\tAverage Reward: 0.047\n",
      "Episode 500\tMax Reward: 0.10\tAverage Reward: 0.063\n",
      "Episode 550\tMax Reward: 0.10\tAverage Reward: 0.085\n",
      "Episode 600\tMax Reward: 0.20\tAverage Reward: 0.092\n",
      "Episode 650\tMax Reward: 0.10\tAverage Reward: 0.097\n",
      "Episode 700\tMax Reward: 0.10\tAverage Reward: 0.111\n",
      "Episode 750\tMax Reward: 0.10\tAverage Reward: 0.119\n",
      "Episode 800\tMax Reward: 0.10\tAverage Reward: 0.133\n",
      "Episode 850\tMax Reward: 0.10\tAverage Reward: 0.149\n",
      "Episode 900\tMax Reward: 0.40\tAverage Reward: 0.212\n",
      "Episode 950\tMax Reward: 0.30\tAverage Reward: 0.258\n",
      "Episode 1000\tMax Reward: 0.00\tAverage Reward: 0.277\n",
      "Episode 1050\tMax Reward: 0.20\tAverage Reward: 0.321\n",
      "Episode 1100\tMax Reward: 0.09\tAverage Reward: 0.362\n",
      "Episode 1150\tMax Reward: 0.60\tAverage Reward: 0.418\n",
      "Episode 1200\tMax Reward: 0.10\tAverage Reward: 0.376\n",
      "Episode 1250\tMax Reward: 0.09\tAverage Reward: 0.282\n",
      "Episode 1300\tMax Reward: 0.09\tAverage Reward: 0.326\n",
      "Episode 1350\tMax Reward: 1.00\tAverage Reward: 0.390\n",
      "Episode 1400\tMax Reward: 0.10\tAverage Reward: 0.364\n",
      "Episode 1450\tMax Reward: 0.10\tAverage Reward: 0.490\n",
      "\n",
      "Environment solved in 1455 episodes!\tAverage Score: 0.516\n"
     ]
    }
   ],
   "source": [
    "episodes = 2000\n",
    "scores_window = deque(maxlen=100)\n",
    "scores_all = []\n",
    "averages = []\n",
    "\n",
    "for episode in range(episodes):\n",
    "    env_info = env.reset(train_mode=True)[brain_name]      # reset the environment    \n",
    "    states = env_info.vector_observations\n",
    "    states = np.reshape(states, (1,48))\n",
    "    agent1.reset()\n",
    "    agent2.reset()\n",
    "    scores = np.zeros(num_agents)\n",
    "    while True:\n",
    "        action1 = agent1.act(states)           # agent 1 chooses an action\n",
    "        action2 = agent2.act(states)           # agent 2 chooses an action\n",
    "        # concatenate the actions and reshape them for the environment\n",
    "        actions = np.reshape(np.concatenate((action1, action2), axis=0),(1,4)) \n",
    "        # send both agents' actions together to the environment\n",
    "        env_info = env.step(actions)[brain_name]\n",
    "        # get next states and reshape them \n",
    "        next_states = np.reshape(env_info.vector_observations,(1,48))         \n",
    "        rewards = env_info.rewards                         # get reward\n",
    "        done = env_info.local_done                         # see if episode finished\n",
    "        agent1.step(states, actions, rewards[0], next_states, done, 0) # train agent 1\n",
    "        agent2.step(states, actions, rewards[1], next_states, done, 1) # train agent 2\n",
    "        \n",
    "        \n",
    "        scores += rewards                                  # update the score for each agent\n",
    "        states = next_states                               # roll over states to next time step\n",
    "\n",
    "        if np.any(done):                                  \n",
    "            break\n",
    "\n",
    "    max_score = np.max(scores)\n",
    "    scores_window.append(max_score)\n",
    "    scores_all.append(max_score)\n",
    "    averages.append(np.mean(scores_window))\n",
    "    # print training progression every now and then            \n",
    "    if episode % 50 == 0:\n",
    "        print('Episode {}\\tMax Reward: {:.2f}\\tAverage Reward: {:.3f}'.format(\n",
    "            episode, max_score, np.mean(scores_window)))\n",
    "    # check if we have reached the solved condition\n",
    "    # if yes, print results and save agent networks weights for later use\n",
    "    # and exit the training cycle\n",
    "    if np.mean(scores_window)>=0.5:\n",
    "        print('\\nEnvironment solved in {:d} episodes!\\tAverage Score: {:.3f}'.format(\n",
    "            episode, np.mean(scores_window)))\n",
    "        torch.save(agent1.actor_local.state_dict(), 'checkpoint_actor1.pth')\n",
    "        torch.save(agent1.critic_local.state_dict(), 'checkpoint_critic1.pth')\n",
    "        torch.save(agent2.actor_local.state_dict(), 'checkpoint_actor2.pth')\n",
    "        torch.save(agent2.critic_local.state_dict(), 'checkpoint_critic2.pth')\n",
    "        break"
   ]
  },
  {
   "cell_type": "code",
   "execution_count": 7,
   "metadata": {},
   "outputs": [
    {
     "data": {
      "image/png": "[encoded data removed]",
      "text/plain": [
       "<matplotlib.figure.Figure at 0x7fbac0469e10>"
      ]
     },
     "metadata": {
      "needs_background": "light"
     },
     "output_type": "display_data"
    }
   ],
   "source": [
    "fig = plt.figure()\n",
    "ax = fig.add_subplot(111)\n",
    "plt.plot(np.arange(1, len(scores_all)+1), scores_all)\n",
    "plt.plot(np.arange(1, len(averages)+1), averages)\n",
    "plt.ylabel('Score')\n",
    "plt.xlabel('Episode #')\n",
    "plt.show()"
   ]
  },
  {
   "cell_type": "markdown",
   "metadata": {},
   "source": [
    "### 4. Watch the agent play!"
   ]
  },
  {
   "cell_type": "code",
   "execution_count": null,
   "metadata": {},
   "outputs": [],
   "source": [
    "agent1.actor_local.load_state_dict(torch.load('checkpoint_actor1.pth', map_location={'cuda:0': 'cpu'}))\n",
    "agent1.critic_local.load_state_dict(torch.load('checkpoint_critic1.pth', map_location={'cuda:0': 'cpu'}))\n",
    "agent2.actor_local.load_state_dict(torch.load('checkpoint_actor2.pth', map_location={'cuda:0': 'cpu'}))\n",
    "agent2.critic_local.load_state_dict(torch.load('checkpoint_critic2.pth', map_location={'cuda:0': 'cpu'}))\n",
    "\n",
    "env_info = env.reset(train_mode=False)[brain_name]        \n",
    "states = env_info.vector_observations\n",
    "states = np.reshape(states, (1,48))                 \n",
    "scores = np.zeros(num_agents)         \n",
    "\n",
    "        \n",
    "for i in range(200):\n",
    "    action1 = agent1.act(states, add_noise=False)           # agent 1 chooses an action\n",
    "    action2 = agent2.act(states, add_noise=False)           # agent 2 chooses an action\n",
    "    # concatenate the actions and reshape them for the environment\n",
    "    actions = np.reshape(np.concatenate((action1, action2), axis=0),(1,4)) \n",
    "    # send both agents' actions together to the environment\n",
    "    env_info = env.step(actions)[brain_name]\n",
    "    # get next states and reshape them \n",
    "    next_states = np.reshape(env_info.vector_observations,(1,48))         \n",
    "    rewards = env_info.rewards                         # get reward\n",
    "    done = env_info.local_done                         # see if episode finished\n",
    "    scores += rewards                                  # update the score for each agent\n",
    "    states = next_states                               # roll over states to next time step\n",
    "    #if np.any(done):                                  \n",
    "           # break"
   ]
  },
  {
   "cell_type": "code",
   "execution_count": 11,
   "metadata": {},
   "outputs": [],
   "source": [
    "env.close()"
   ]
  },
  {
   "cell_type": "code",
   "execution_count": null,
   "metadata": {},
   "outputs": [],
   "source": []
  },
  {
   "cell_type": "code",
   "execution_count": null,
   "metadata": {},
   "outputs": [],
   "source": []
  }
 ],
 "metadata": {
  "kernelspec": {
   "display_name": "Python 3",
   "language": "python",
   "name": "python3"
  },
  "language_info": {
   "codemirror_mode": {
    "name": "ipython",
    "version": 3
   },
   "file_extension": ".py",
   "mimetype": "text/x-python",
   "name": "python",
   "nbconvert_exporter": "python",
   "pygments_lexer": "ipython3",
   "version": "3.6.3"
  }
 },
 "nbformat": 4,
 "nbformat_minor": 2
}
